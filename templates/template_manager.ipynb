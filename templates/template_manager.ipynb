{
 "cells": [
  {
   "cell_type": "code",
   "execution_count": 1,
   "metadata": {},
   "outputs": [
    {
     "name": "stdout",
     "output_type": "stream",
     "text": [
      "['fonts/icomoon/style.css', 'fullcalendar/packages/core/main.css', 'fullcalendar/packages/daygrid/main.css', 'css/bootstrap.min.css', 'css/style.css', \"{% static 'oprec.png' %}\", 'js/jquery-3.3.1.min.js', 'js/popper.min.js', 'js/bootstrap.min.js', 'fullcalendar/packages/core/main.js', 'fullcalendar/packages/interaction/main.js', 'fullcalendar/packages/daygrid/main.js', 'fullcalendar/packages/timegrid/main.js', 'fullcalendar/packages/list/main.js', 'js/main.js']\n"
     ]
    }
   ],
   "source": [
    "import re\n",
    "\n",
    "with open('calendar.html', 'r') as cal_fd:\n",
    "    cal = cal_fd.read()\n",
    "\n",
    "all_refs = [\n",
    "    *[i.lstrip('href=').strip('\"') for i in re.findall(r'href\\=\\\"[^\\\"]*\\\"', cal)],\n",
    "    *[i.lstrip('src=').strip('\"') for i in re.findall(r'src\\=\\\"[^\\\"]*\\\"', cal)],\n",
    "]\n",
    "\n",
    "all_local_refs = [i for i in all_refs if not (i.startswith('https://'))]\n",
    "all_global_refs = [i for i in all_refs if (i.startswith('https://'))]\n",
    "\n",
    "print(all_local_refs)\n"
   ]
  },
  {
   "cell_type": "code",
   "execution_count": 2,
   "metadata": {},
   "outputs": [
    {
     "name": "stdout",
     "output_type": "stream",
     "text": [
      "cal20/fonts/icomoon/style.css\n",
      "cal20/fullcalendar/packages/core/main.css\n",
      "cal20/fullcalendar/packages/daygrid/main.css\n",
      "cal20/css/bootstrap.min.css\n",
      "cal20/css/style.css\n",
      "cal20/{% static 'oprec.png' %}\n",
      "cal20/js/jquery-3.3.1.min.js\n",
      "cal20/js/popper.min.js\n",
      "cal20/js/bootstrap.min.js\n",
      "cal20/fullcalendar/packages/core/main.js\n",
      "cal20/fullcalendar/packages/interaction/main.js\n",
      "cal20/fullcalendar/packages/daygrid/main.js\n",
      "cal20/fullcalendar/packages/timegrid/main.js\n",
      "cal20/fullcalendar/packages/list/main.js\n",
      "cal20/js/main.js\n"
     ]
    }
   ],
   "source": [
    "import os\n",
    "out_folder = 'cal20'\n",
    "\n",
    "try:\n",
    "    os.mkdir(out_folder)\n",
    "except:\n",
    "    pass\n",
    "\n",
    "for locr in all_local_refs:\n",
    "    try:\n",
    "        os.makedirs(out_folder+'/'+('/'.join(locr.split(\"/\")[:-1])))\n",
    "    except:\n",
    "        _=0\n",
    "    try:\n",
    "        os.mkdir(out_folder+'/'+locr.split(\"/\")[-2])\n",
    "    except:\n",
    "        _=0    \n",
    "    out = f'cal20/{locr}'\n",
    "    print(out)\n",
    "    os.system(f'curl https://preview.colorlib.com/theme/bootstrap/calendar-20/{locr} > {out}')"
   ]
  },
  {
   "cell_type": "code",
   "execution_count": null,
   "metadata": {},
   "outputs": [],
   "source": []
  },
  {
   "cell_type": "code",
   "execution_count": 6,
   "metadata": {},
   "outputs": [
    {
     "name": "stdout",
     "output_type": "stream",
     "text": [
      "https://fonts.googleapis.com/css?family=Roboto:300,400&display=swap 0\n",
      "https://fonts.googleapis.com/css?family=Poppins:300,400,500&display=swap 1\n",
      "https://static.cloudflareinsights.com/beacon.min.js/v52afc6f149f6479b8c77fa569edb01181681764108816 2\n"
     ]
    }
   ],
   "source": [
    "for i, locr in enumerate(all_global_refs):\n",
    "    try:\n",
    "        os.makedirs(out_folder+'/'+('/'.join(locr.split(\"/\")[:-1])))\n",
    "    except:\n",
    "        _=0\n",
    "    try:\n",
    "        os.mkdir(out_folder+'/'+locr.split(\"/\")[-2])\n",
    "    except:\n",
    "        _=0    \n",
    "    print(locr, i)\n",
    "    os.system(f'curl {locr} > cal20/file_{i}.css')"
   ]
  },
  {
   "cell_type": "code",
   "execution_count": 4,
   "metadata": {},
   "outputs": [],
   "source": [
    "import copy\n",
    "\n",
    "with open('calendar_new.html', 'w+') as cal_fd:\n",
    "    new_cal = copy.deepcopy(cal)\n",
    "    for ref in all_local_refs:\n",
    "        new_cal = new_cal.replace(ref, \"{% static 'cal20/\"+ref+\"' %}\")\n",
    "    cal_fd.write(new_cal)"
   ]
  },
  {
   "cell_type": "code",
   "execution_count": null,
   "metadata": {},
   "outputs": [],
   "source": []
  }
 ],
 "metadata": {
  "kernelspec": {
   "display_name": "base",
   "language": "python",
   "name": "python3"
  },
  "language_info": {
   "codemirror_mode": {
    "name": "ipython",
    "version": 3
   },
   "file_extension": ".py",
   "mimetype": "text/x-python",
   "name": "python",
   "nbconvert_exporter": "python",
   "pygments_lexer": "ipython3",
   "version": "3.9.13"
  },
  "orig_nbformat": 4
 },
 "nbformat": 4,
 "nbformat_minor": 2
}
